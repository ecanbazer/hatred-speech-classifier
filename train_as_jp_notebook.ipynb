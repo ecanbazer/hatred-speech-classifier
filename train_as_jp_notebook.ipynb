{
  "cells": [
    {
      "cell_type": "code",
      "execution_count": null,
      "metadata": {
        "id": "7d02ftEA-hQg"
      },
      "outputs": [],
      "source": [
        "import pandas as pd\n",
        "import numpy as np\n",
        "import matplotlib.pyplot as plt\n",
        "import random\n",
        "import json\n",
        "from sklearn.utils import resample\n",
        "%matplotlib inline\n",
        "import torch\n",
        "from torch.utils.data import DataLoader, TensorDataset"
      ]
    },
    {
      "cell_type": "code",
      "execution_count": null,
      "metadata": {
        "colab": {
          "base_uri": "https://localhost:8080/"
        },
        "id": "b5yCjbLmVJ3p",
        "outputId": "33aa6c2a-f289-4fd3-daa1-41d3758edb6f"
      },
      "outputs": [
        {
          "output_type": "stream",
          "name": "stdout",
          "text": [
            "Downloading...\n",
            "From: https://drive.google.com/uc?id=1-A6iDGys4tkLxykSbXz41bbVRFBTATr1\n",
            "To: /content/train.csv\n",
            "100% 3.10M/3.10M [00:00<00:00, 113MB/s]\n",
            "Downloading...\n",
            "From: https://drive.google.com/uc?id=1-M6Q93Dewd8EOf5Zwv_SbvWz4Vur1n-P\n",
            "To: /content/test.csv\n",
            "100% 1.64M/1.64M [00:00<00:00, 110MB/s]\n"
          ]
        }
      ],
      "source": [
        "# download the data from google drive (will only work on Google Colab)\n",
        "!gdown --id 1-A6iDGys4tkLxykSbXz41bbVRFBTATr1 #training data\n",
        "!gdown --id 1-M6Q93Dewd8EOf5Zwv_SbvWz4Vur1n-P #test data\n"
      ]
    },
    {
      "cell_type": "code",
      "execution_count": null,
      "metadata": {
        "id": "1sYhcokh-3_g"
      },
      "outputs": [],
      "source": [
        "train = pd.read_csv(\"train.csv\")"
      ]
    },
    {
      "cell_type": "markdown",
      "metadata": {
        "id": "VaNqyudvV4kr"
      },
      "source": [
        "# Data Exploration"
      ]
    },
    {
      "cell_type": "code",
      "execution_count": null,
      "metadata": {
        "colab": {
          "base_uri": "https://localhost:8080/",
          "height": 363
        },
        "id": "yJPx798XAlkZ",
        "outputId": "52a7253f-1dfa-4fbe-f152-bf7ce50a1d57"
      },
      "outputs": [
        {
          "output_type": "execute_result",
          "data": {
            "text/html": [
              "\n",
              "  <div id=\"df-1e16e8c3-d65a-4e89-a7b7-99138ad9dd91\">\n",
              "    <div class=\"colab-df-container\">\n",
              "      <div>\n",
              "<style scoped>\n",
              "    .dataframe tbody tr th:only-of-type {\n",
              "        vertical-align: middle;\n",
              "    }\n",
              "\n",
              "    .dataframe tbody tr th {\n",
              "        vertical-align: top;\n",
              "    }\n",
              "\n",
              "    .dataframe thead th {\n",
              "        text-align: right;\n",
              "    }\n",
              "</style>\n",
              "<table border=\"1\" class=\"dataframe\">\n",
              "  <thead>\n",
              "    <tr style=\"text-align: right;\">\n",
              "      <th></th>\n",
              "      <th>id</th>\n",
              "      <th>label</th>\n",
              "      <th>tweet</th>\n",
              "    </tr>\n",
              "  </thead>\n",
              "  <tbody>\n",
              "    <tr>\n",
              "      <th>0</th>\n",
              "      <td>1</td>\n",
              "      <td>0</td>\n",
              "      <td>@user when a father is dysfunctional and is s...</td>\n",
              "    </tr>\n",
              "    <tr>\n",
              "      <th>1</th>\n",
              "      <td>2</td>\n",
              "      <td>0</td>\n",
              "      <td>@user @user thanks for #lyft credit i can't us...</td>\n",
              "    </tr>\n",
              "    <tr>\n",
              "      <th>2</th>\n",
              "      <td>3</td>\n",
              "      <td>0</td>\n",
              "      <td>bihday your majesty</td>\n",
              "    </tr>\n",
              "    <tr>\n",
              "      <th>3</th>\n",
              "      <td>4</td>\n",
              "      <td>0</td>\n",
              "      <td>#model   i love u take with u all the time in ...</td>\n",
              "    </tr>\n",
              "    <tr>\n",
              "      <th>4</th>\n",
              "      <td>5</td>\n",
              "      <td>0</td>\n",
              "      <td>factsguide: society now    #motivation</td>\n",
              "    </tr>\n",
              "    <tr>\n",
              "      <th>5</th>\n",
              "      <td>6</td>\n",
              "      <td>0</td>\n",
              "      <td>[2/2] huge fan fare and big talking before the...</td>\n",
              "    </tr>\n",
              "    <tr>\n",
              "      <th>6</th>\n",
              "      <td>7</td>\n",
              "      <td>0</td>\n",
              "      <td>@user camping tomorrow @user @user @user @use...</td>\n",
              "    </tr>\n",
              "    <tr>\n",
              "      <th>7</th>\n",
              "      <td>8</td>\n",
              "      <td>0</td>\n",
              "      <td>the next school year is the year for exams.ð...</td>\n",
              "    </tr>\n",
              "    <tr>\n",
              "      <th>8</th>\n",
              "      <td>9</td>\n",
              "      <td>0</td>\n",
              "      <td>we won!!! love the land!!! #allin #cavs #champ...</td>\n",
              "    </tr>\n",
              "    <tr>\n",
              "      <th>9</th>\n",
              "      <td>10</td>\n",
              "      <td>0</td>\n",
              "      <td>@user @user welcome here !  i'm   it's so #gr...</td>\n",
              "    </tr>\n",
              "  </tbody>\n",
              "</table>\n",
              "</div>\n",
              "      <button class=\"colab-df-convert\" onclick=\"convertToInteractive('df-1e16e8c3-d65a-4e89-a7b7-99138ad9dd91')\"\n",
              "              title=\"Convert this dataframe to an interactive table.\"\n",
              "              style=\"display:none;\">\n",
              "        \n",
              "  <svg xmlns=\"http://www.w3.org/2000/svg\" height=\"24px\"viewBox=\"0 0 24 24\"\n",
              "       width=\"24px\">\n",
              "    <path d=\"M0 0h24v24H0V0z\" fill=\"none\"/>\n",
              "    <path d=\"M18.56 5.44l.94 2.06.94-2.06 2.06-.94-2.06-.94-.94-2.06-.94 2.06-2.06.94zm-11 1L8.5 8.5l.94-2.06 2.06-.94-2.06-.94L8.5 2.5l-.94 2.06-2.06.94zm10 10l.94 2.06.94-2.06 2.06-.94-2.06-.94-.94-2.06-.94 2.06-2.06.94z\"/><path d=\"M17.41 7.96l-1.37-1.37c-.4-.4-.92-.59-1.43-.59-.52 0-1.04.2-1.43.59L10.3 9.45l-7.72 7.72c-.78.78-.78 2.05 0 2.83L4 21.41c.39.39.9.59 1.41.59.51 0 1.02-.2 1.41-.59l7.78-7.78 2.81-2.81c.8-.78.8-2.07 0-2.86zM5.41 20L4 18.59l7.72-7.72 1.47 1.35L5.41 20z\"/>\n",
              "  </svg>\n",
              "      </button>\n",
              "      \n",
              "  <style>\n",
              "    .colab-df-container {\n",
              "      display:flex;\n",
              "      flex-wrap:wrap;\n",
              "      gap: 12px;\n",
              "    }\n",
              "\n",
              "    .colab-df-convert {\n",
              "      background-color: #E8F0FE;\n",
              "      border: none;\n",
              "      border-radius: 50%;\n",
              "      cursor: pointer;\n",
              "      display: none;\n",
              "      fill: #1967D2;\n",
              "      height: 32px;\n",
              "      padding: 0 0 0 0;\n",
              "      width: 32px;\n",
              "    }\n",
              "\n",
              "    .colab-df-convert:hover {\n",
              "      background-color: #E2EBFA;\n",
              "      box-shadow: 0px 1px 2px rgba(60, 64, 67, 0.3), 0px 1px 3px 1px rgba(60, 64, 67, 0.15);\n",
              "      fill: #174EA6;\n",
              "    }\n",
              "\n",
              "    [theme=dark] .colab-df-convert {\n",
              "      background-color: #3B4455;\n",
              "      fill: #D2E3FC;\n",
              "    }\n",
              "\n",
              "    [theme=dark] .colab-df-convert:hover {\n",
              "      background-color: #434B5C;\n",
              "      box-shadow: 0px 1px 3px 1px rgba(0, 0, 0, 0.15);\n",
              "      filter: drop-shadow(0px 1px 2px rgba(0, 0, 0, 0.3));\n",
              "      fill: #FFFFFF;\n",
              "    }\n",
              "  </style>\n",
              "\n",
              "      <script>\n",
              "        const buttonEl =\n",
              "          document.querySelector('#df-1e16e8c3-d65a-4e89-a7b7-99138ad9dd91 button.colab-df-convert');\n",
              "        buttonEl.style.display =\n",
              "          google.colab.kernel.accessAllowed ? 'block' : 'none';\n",
              "\n",
              "        async function convertToInteractive(key) {\n",
              "          const element = document.querySelector('#df-1e16e8c3-d65a-4e89-a7b7-99138ad9dd91');\n",
              "          const dataTable =\n",
              "            await google.colab.kernel.invokeFunction('convertToInteractive',\n",
              "                                                     [key], {});\n",
              "          if (!dataTable) return;\n",
              "\n",
              "          const docLinkHtml = 'Like what you see? Visit the ' +\n",
              "            '<a target=\"_blank\" href=https://colab.research.google.com/notebooks/data_table.ipynb>data table notebook</a>'\n",
              "            + ' to learn more about interactive tables.';\n",
              "          element.innerHTML = '';\n",
              "          dataTable['output_type'] = 'display_data';\n",
              "          await google.colab.output.renderOutput(dataTable, element);\n",
              "          const docLink = document.createElement('div');\n",
              "          docLink.innerHTML = docLinkHtml;\n",
              "          element.appendChild(docLink);\n",
              "        }\n",
              "      </script>\n",
              "    </div>\n",
              "  </div>\n",
              "  "
            ],
            "text/plain": [
              "   id  label                                              tweet\n",
              "0   1      0   @user when a father is dysfunctional and is s...\n",
              "1   2      0  @user @user thanks for #lyft credit i can't us...\n",
              "2   3      0                                bihday your majesty\n",
              "3   4      0  #model   i love u take with u all the time in ...\n",
              "4   5      0             factsguide: society now    #motivation\n",
              "5   6      0  [2/2] huge fan fare and big talking before the...\n",
              "6   7      0   @user camping tomorrow @user @user @user @use...\n",
              "7   8      0  the next school year is the year for exams.ð...\n",
              "8   9      0  we won!!! love the land!!! #allin #cavs #champ...\n",
              "9  10      0   @user @user welcome here !  i'm   it's so #gr..."
            ]
          },
          "metadata": {},
          "execution_count": 18
        }
      ],
      "source": [
        "train.head(10)"
      ]
    },
    {
      "cell_type": "code",
      "execution_count": null,
      "metadata": {
        "colab": {
          "base_uri": "https://localhost:8080/"
        },
        "id": "TiJVeViBF9Q9",
        "outputId": "022d6282-f5b7-454b-cf7d-ccb9f0d7bf1f"
      },
      "outputs": [
        {
          "output_type": "stream",
          "name": "stdout",
          "text": [
            "<class 'pandas.core.frame.DataFrame'>\n",
            "RangeIndex: 31962 entries, 0 to 31961\n",
            "Data columns (total 3 columns):\n",
            " #   Column  Non-Null Count  Dtype \n",
            "---  ------  --------------  ----- \n",
            " 0   id      31962 non-null  int64 \n",
            " 1   label   31962 non-null  int64 \n",
            " 2   tweet   31962 non-null  object\n",
            "dtypes: int64(2), object(1)\n",
            "memory usage: 749.2+ KB\n"
          ]
        }
      ],
      "source": [
        "train.info()"
      ]
    },
    {
      "cell_type": "code",
      "execution_count": null,
      "metadata": {
        "colab": {
          "base_uri": "https://localhost:8080/"
        },
        "id": "JpECwMbNAVJq",
        "outputId": "ed60baf4-8ce8-4684-962f-355a73baed49"
      },
      "outputs": [
        {
          "output_type": "execute_result",
          "data": {
            "text/plain": [
              "29720"
            ]
          },
          "metadata": {},
          "execution_count": 20
        }
      ],
      "source": [
        "# count not racist/sexist\n",
        "sum(train[\"label\"] == 0)"
      ]
    },
    {
      "cell_type": "code",
      "execution_count": null,
      "metadata": {
        "colab": {
          "base_uri": "https://localhost:8080/"
        },
        "id": "ZAWzDkQWF9PZ",
        "outputId": "4773b8ad-86e2-4eed-ca2c-62f42d3348ec"
      },
      "outputs": [
        {
          "output_type": "execute_result",
          "data": {
            "text/plain": [
              "2242"
            ]
          },
          "metadata": {},
          "execution_count": 21
        }
      ],
      "source": [
        "# count racist/sexist\n",
        "sum(train[\"label\"] == 1)"
      ]
    },
    {
      "cell_type": "code",
      "execution_count": null,
      "metadata": {
        "colab": {
          "base_uri": "https://localhost:8080/",
          "height": 334
        },
        "id": "Z8E7RfrHuRF3",
        "outputId": "b298aadb-03da-4c4c-9b62-7e651a2bca75"
      },
      "outputs": [
        {
          "output_type": "execute_result",
          "data": {
            "text/plain": [
              "([<matplotlib.axis.XTick at 0x7f4dc11f7a90>,\n",
              "  <matplotlib.axis.XTick at 0x7f4dc11f7a10>],\n",
              " <a list of 2 Text major ticklabel objects>)"
            ]
          },
          "metadata": {},
          "execution_count": 22
        },
        {
          "output_type": "display_data",
          "data": {
            "image/png": "[encoded data removed]",
            "text/plain": [
              "<Figure size 432x288 with 1 Axes>"
            ]
          },
          "metadata": {
            "needs_background": "light"
          }
        }
      ],
      "source": [
        "# plot the data ratio\n",
        "plt.bar([0,1], train['label'].value_counts(), width=0.5, bottom=None, align='center', data=train)\n",
        "plt.xlabel('Labels')\n",
        "plt.ylabel('Frequency')\n",
        "plt.xticks([0, 1])"
      ]
    },
    {
      "cell_type": "code",
      "execution_count": null,
      "metadata": {
        "colab": {
          "base_uri": "https://localhost:8080/"
        },
        "id": "mxH4eVK6zCu9",
        "outputId": "cbc6a32b-e7ce-4eab-973a-df563a4a79fd"
      },
      "outputs": [
        {
          "output_type": "execute_result",
          "data": {
            "text/plain": [
              "array([0, 0, 0, ..., 0, 1, 0])"
            ]
          },
          "metadata": {},
          "execution_count": 23
        }
      ],
      "source": [
        "train['label'].values"
      ]
    },
    {
      "cell_type": "markdown",
      "metadata": {
        "id": "yMRG6A4bI_WW"
      },
      "source": [
        "# Preprocessing step"
      ]
    },
    {
      "cell_type": "markdown",
      "source": [
        "Our preprocessing function includes:\n",
        "- lemmatization\n",
        "- filtering by frequency > 1 (tokens that appear only one time in the whole dataset are removed from tweets)\n",
        "- de-accenting (for example, all 'â,à, ã' etc. becomes 'a'), since we found out that some words were written using non-english characters\n",
        "- only alphabetic strings \n",
        "- filtering by len > 2 (only words longer than 2 characters are kept)\n",
        "- stopwords removal except 'not', this was inspired by a paper on the same subject ([Waseem & Hovy 2016](https://aclanthology.org/N16-2013.pdf))\n",
        "- removing the sharp (#) from hashtags but keeping the hashtag text\n",
        "- de-emojiszing (turning emojis into words, eg. '💅'  to  'nail_care')\n",
        "\n"
      ],
      "metadata": {
        "id": "xSkd7yk_daRI"
      }
    },
    {
      "cell_type": "markdown",
      "source": [
        "We also noticed that some non-English words occur in the cleaned data. Ideally, we would also need to perform language identification and keep only English sentences, but it would complicate the preprocessing too much so we decided to keep it as it is."
      ],
      "metadata": {
        "id": "TRACXSkb7DT3"
      }
    },
    {
      "cell_type": "code",
      "execution_count": null,
      "metadata": {
        "colab": {
          "base_uri": "https://localhost:8080/"
        },
        "id": "e5wzkGvoAVTR",
        "outputId": "8ec435cd-28b0-46f2-d9e0-c756d2b4bad2"
      },
      "outputs": [
        {
          "output_type": "stream",
          "name": "stdout",
          "text": [
            "Collecting tweet-preprocessor\n",
            "  Downloading tweet_preprocessor-0.6.0-py3-none-any.whl (27 kB)\n",
            "Installing collected packages: tweet-preprocessor\n",
            "Successfully installed tweet-preprocessor-0.6.0\n",
            "Collecting emoji\n",
            "  Downloading emoji-1.6.3.tar.gz (174 kB)\n",
            "\u001b[K     |████████████████████████████████| 174 kB 5.2 MB/s \n",
            "\u001b[?25hBuilding wheels for collected packages: emoji\n",
            "  Building wheel for emoji (setup.py) ... \u001b[?25l\u001b[?25hdone\n",
            "  Created wheel for emoji: filename=emoji-1.6.3-py3-none-any.whl size=170298 sha256=305ef70850f225479d936b8f9912e58a085de05a5b1e86eea4c3d57fce295f6d\n",
            "  Stored in directory: /root/.cache/pip/wheels/03/8b/d7/ad579fbef83c287215c0caab60fb0ae0f30c4d7ce5f580eade\n",
            "Successfully built emoji\n",
            "Installing collected packages: emoji\n",
            "Successfully installed emoji-1.6.3\n"
          ]
        }
      ],
      "source": [
        "# Preprocessor\n",
        "!pip install tweet-preprocessor\n",
        "!pip install emoji"
      ]
    },
    {
      "cell_type": "code",
      "execution_count": null,
      "metadata": {
        "id": "s00zqksQAVUM"
      },
      "outputs": [],
      "source": [
        "import re\n",
        "import preprocessor as p\n",
        "from sklearn.feature_extraction.text import CountVectorizer\n",
        "from sklearn.model_selection import train_test_split\n",
        "import emoji\n",
        "import nltk\n",
        "from nltk.corpus import stopwords\n",
        "from collections import Counter\n",
        "from gensim.utils import deaccent"
      ]
    },
    {
      "cell_type": "code",
      "execution_count": null,
      "metadata": {
        "colab": {
          "base_uri": "https://localhost:8080/"
        },
        "id": "LXcgSu7hsDrG",
        "outputId": "881adf00-c0aa-4cdc-84bf-ba5cc0c40b0a"
      },
      "outputs": [
        {
          "output_type": "stream",
          "name": "stdout",
          "text": [
            "[nltk_data] Downloading package stopwords to /root/nltk_data...\n",
            "[nltk_data]   Unzipping corpora/stopwords.zip.\n",
            "[nltk_data] Downloading package wordnet to /root/nltk_data...\n",
            "[nltk_data]   Unzipping corpora/wordnet.zip.\n",
            "[nltk_data] Downloading package punkt to /root/nltk_data...\n",
            "[nltk_data]   Unzipping tokenizers/punkt.zip.\n"
          ]
        },
        {
          "output_type": "execute_result",
          "data": {
            "text/plain": [
              "True"
            ]
          },
          "metadata": {},
          "execution_count": 6
        }
      ],
      "source": [
        "nltk.download('stopwords')\n",
        "nltk.download('wordnet')\n",
        "nltk.download('punkt')"
      ]
    },
    {
      "cell_type": "code",
      "execution_count": null,
      "metadata": {
        "id": "lyPsoBcxAVVo"
      },
      "outputs": [],
      "source": [
        "p.set_options(p.OPT.URL, p.OPT.MENTION, p.OPT.NUMBER) \n",
        "# set the pipeline of the tweet-preprocessor object to include only removing URL's, mentions ('@user'), and numbers\n",
        "\n",
        "def awesome_preprocessor(dataset, stopwords, lemmatizer, counter):\n",
        "  REPLACE_NO_SPACE = re.compile(\"(\\.)|(\\;)|(\\:)|(\\!)|(\\')|(\\?)|(\\,)|(\\\")|(\\|)|(\\()|(\\))|(\\[)|(\\])|(\\%)|(\\$)|(\\>)|(\\<)|(\\{)|(\\})\")\n",
        "  REPLACE_WITH_SPACE = re.compile(\"(<br\\s/><br\\s/?)|(-)|(/)|(:).\")  \n",
        "\n",
        "  cleaned = []\n",
        "  for tweet in dataset:\n",
        "    tweet = ' '.join([word for word in tweet.split() if word not in stopwords])\n",
        "    tweet = emoji.demojize(tweet.replace(':', ' '))  # de-emojizing adds unnecessary colons, like ':red_heart:'\n",
        "    tweet = p.clean(tweet)  # apply tweet-preprocessor\n",
        "    tweet = deaccent(tweet)  # de-accents with gensim's deaccent tool\n",
        "    tweet = REPLACE_NO_SPACE.sub(\"\", tweet.lower())\n",
        "    tweet = REPLACE_WITH_SPACE.sub(\" \", tweet)\n",
        "    tokens = nltk.word_tokenize(tweet)  \n",
        "    lemmas = [lemmatizer.lemmatize(token) for token in tokens]  \n",
        "    filtered = []\n",
        "    for lemma in lemmas:\n",
        "      if counter[lemma] > 1 and lemma.isalpha() and len(lemma) > 2:\n",
        "        filtered.append(lemma)\n",
        "      elif lemma not in counter.keys():\n",
        "        filtered.append('<unk>')\n",
        "    tweet = \" \".join(filtered).replace('#', '')\n",
        "    cleaned.append(tweet)\n",
        "\n",
        "  return cleaned"
      ]
    },
    {
      "cell_type": "code",
      "source": [
        "# create a vocabulary of the dataset and count the occurences of each word (for frequency filtering)\n",
        "\n",
        "tokens = nltk.word_tokenize(\" \".join(list(train.tweet)))\n",
        "lemmatizer = nltk.stem.wordnet.WordNetLemmatizer()\n",
        "vocab = [lemmatizer.lemmatize(token.lower()) for token in tokens]\n",
        "counter = Counter(vocab)"
      ],
      "metadata": {
        "id": "DlgIRDD9aEfA"
      },
      "execution_count": null,
      "outputs": []
    },
    {
      "cell_type": "code",
      "execution_count": null,
      "metadata": {
        "id": "p5ztM80WAVXv"
      },
      "outputs": [],
      "source": [
        "# create a list of stopwords, without 'not' because it's important for our task\n",
        "stops = stopwords.words('english')\n",
        "stops.remove('not')"
      ]
    },
    {
      "cell_type": "code",
      "execution_count": null,
      "metadata": {
        "id": "s2dZanl9AVZz"
      },
      "outputs": [],
      "source": [
        "train[\"cleaned\"] = awesome_preprocessor(train[\"tweet\"], stops, lemmatizer, counter)"
      ]
    },
    {
      "cell_type": "code",
      "execution_count": null,
      "metadata": {
        "colab": {
          "base_uri": "https://localhost:8080/",
          "height": 206
        },
        "id": "SsLn23ZJAVcB",
        "outputId": "85efd10a-d857-4d1f-8613-b1f024d22745"
      },
      "outputs": [
        {
          "output_type": "execute_result",
          "data": {
            "text/html": [
              "\n",
              "  <div id=\"df-a76b527c-350f-4fea-aacc-3f739debe77a\">\n",
              "    <div class=\"colab-df-container\">\n",
              "      <div>\n",
              "<style scoped>\n",
              "    .dataframe tbody tr th:only-of-type {\n",
              "        vertical-align: middle;\n",
              "    }\n",
              "\n",
              "    .dataframe tbody tr th {\n",
              "        vertical-align: top;\n",
              "    }\n",
              "\n",
              "    .dataframe thead th {\n",
              "        text-align: right;\n",
              "    }\n",
              "</style>\n",
              "<table border=\"1\" class=\"dataframe\">\n",
              "  <thead>\n",
              "    <tr style=\"text-align: right;\">\n",
              "      <th></th>\n",
              "      <th>id</th>\n",
              "      <th>label</th>\n",
              "      <th>tweet</th>\n",
              "      <th>cleaned</th>\n",
              "    </tr>\n",
              "  </thead>\n",
              "  <tbody>\n",
              "    <tr>\n",
              "      <th>0</th>\n",
              "      <td>1</td>\n",
              "      <td>0</td>\n",
              "      <td>@user when a father is dysfunctional and is s...</td>\n",
              "      <td>father selfish drag kid dysfunction run</td>\n",
              "    </tr>\n",
              "    <tr>\n",
              "      <th>1</th>\n",
              "      <td>2</td>\n",
              "      <td>0</td>\n",
              "      <td>@user @user thanks for #lyft credit i can't us...</td>\n",
              "      <td>thanks lyft credit cant use cause offer wheelc...</td>\n",
              "    </tr>\n",
              "    <tr>\n",
              "      <th>2</th>\n",
              "      <td>3</td>\n",
              "      <td>0</td>\n",
              "      <td>bihday your majesty</td>\n",
              "      <td>bihday majesty</td>\n",
              "    </tr>\n",
              "    <tr>\n",
              "      <th>3</th>\n",
              "      <td>4</td>\n",
              "      <td>0</td>\n",
              "      <td>#model   i love u take with u all the time in ...</td>\n",
              "      <td>model love take time</td>\n",
              "    </tr>\n",
              "    <tr>\n",
              "      <th>4</th>\n",
              "      <td>5</td>\n",
              "      <td>0</td>\n",
              "      <td>factsguide: society now    #motivation</td>\n",
              "      <td>factsguide society motivation</td>\n",
              "    </tr>\n",
              "  </tbody>\n",
              "</table>\n",
              "</div>\n",
              "      <button class=\"colab-df-convert\" onclick=\"convertToInteractive('df-a76b527c-350f-4fea-aacc-3f739debe77a')\"\n",
              "              title=\"Convert this dataframe to an interactive table.\"\n",
              "              style=\"display:none;\">\n",
              "        \n",
              "  <svg xmlns=\"http://www.w3.org/2000/svg\" height=\"24px\"viewBox=\"0 0 24 24\"\n",
              "       width=\"24px\">\n",
              "    <path d=\"M0 0h24v24H0V0z\" fill=\"none\"/>\n",
              "    <path d=\"M18.56 5.44l.94 2.06.94-2.06 2.06-.94-2.06-.94-.94-2.06-.94 2.06-2.06.94zm-11 1L8.5 8.5l.94-2.06 2.06-.94-2.06-.94L8.5 2.5l-.94 2.06-2.06.94zm10 10l.94 2.06.94-2.06 2.06-.94-2.06-.94-.94-2.06-.94 2.06-2.06.94z\"/><path d=\"M17.41 7.96l-1.37-1.37c-.4-.4-.92-.59-1.43-.59-.52 0-1.04.2-1.43.59L10.3 9.45l-7.72 7.72c-.78.78-.78 2.05 0 2.83L4 21.41c.39.39.9.59 1.41.59.51 0 1.02-.2 1.41-.59l7.78-7.78 2.81-2.81c.8-.78.8-2.07 0-2.86zM5.41 20L4 18.59l7.72-7.72 1.47 1.35L5.41 20z\"/>\n",
              "  </svg>\n",
              "      </button>\n",
              "      \n",
              "  <style>\n",
              "    .colab-df-container {\n",
              "      display:flex;\n",
              "      flex-wrap:wrap;\n",
              "      gap: 12px;\n",
              "    }\n",
              "\n",
              "    .colab-df-convert {\n",
              "      background-color: #E8F0FE;\n",
              "      border: none;\n",
              "      border-radius: 50%;\n",
              "      cursor: pointer;\n",
              "      display: none;\n",
              "      fill: #1967D2;\n",
              "      height: 32px;\n",
              "      padding: 0 0 0 0;\n",
              "      width: 32px;\n",
              "    }\n",
              "\n",
              "    .colab-df-convert:hover {\n",
              "      background-color: #E2EBFA;\n",
              "      box-shadow: 0px 1px 2px rgba(60, 64, 67, 0.3), 0px 1px 3px 1px rgba(60, 64, 67, 0.15);\n",
              "      fill: #174EA6;\n",
              "    }\n",
              "\n",
              "    [theme=dark] .colab-df-convert {\n",
              "      background-color: #3B4455;\n",
              "      fill: #D2E3FC;\n",
              "    }\n",
              "\n",
              "    [theme=dark] .colab-df-convert:hover {\n",
              "      background-color: #434B5C;\n",
              "      box-shadow: 0px 1px 3px 1px rgba(0, 0, 0, 0.15);\n",
              "      filter: drop-shadow(0px 1px 2px rgba(0, 0, 0, 0.3));\n",
              "      fill: #FFFFFF;\n",
              "    }\n",
              "  </style>\n",
              "\n",
              "      <script>\n",
              "        const buttonEl =\n",
              "          document.querySelector('#df-a76b527c-350f-4fea-aacc-3f739debe77a button.colab-df-convert');\n",
              "        buttonEl.style.display =\n",
              "          google.colab.kernel.accessAllowed ? 'block' : 'none';\n",
              "\n",
              "        async function convertToInteractive(key) {\n",
              "          const element = document.querySelector('#df-a76b527c-350f-4fea-aacc-3f739debe77a');\n",
              "          const dataTable =\n",
              "            await google.colab.kernel.invokeFunction('convertToInteractive',\n",
              "                                                     [key], {});\n",
              "          if (!dataTable) return;\n",
              "\n",
              "          const docLinkHtml = 'Like what you see? Visit the ' +\n",
              "            '<a target=\"_blank\" href=https://colab.research.google.com/notebooks/data_table.ipynb>data table notebook</a>'\n",
              "            + ' to learn more about interactive tables.';\n",
              "          element.innerHTML = '';\n",
              "          dataTable['output_type'] = 'display_data';\n",
              "          await google.colab.output.renderOutput(dataTable, element);\n",
              "          const docLink = document.createElement('div');\n",
              "          docLink.innerHTML = docLinkHtml;\n",
              "          element.appendChild(docLink);\n",
              "        }\n",
              "      </script>\n",
              "    </div>\n",
              "  </div>\n",
              "  "
            ],
            "text/plain": [
              "   id  ...                                            cleaned\n",
              "0   1  ...            father selfish drag kid dysfunction run\n",
              "1   2  ...  thanks lyft credit cant use cause offer wheelc...\n",
              "2   3  ...                                     bihday majesty\n",
              "3   4  ...                               model love take time\n",
              "4   5  ...                      factsguide society motivation\n",
              "\n",
              "[5 rows x 4 columns]"
            ]
          },
          "metadata": {},
          "execution_count": 11
        }
      ],
      "source": [
        "train.head()"
      ]
    },
    {
      "cell_type": "code",
      "execution_count": null,
      "metadata": {
        "id": "Gws_ZSz8q0ks"
      },
      "outputs": [],
      "source": [
        "from google.colab import files\n",
        "\n",
        "# download cleaned dataframe\n",
        "\n",
        "#train.to_csv('preprocessed_train.csv')\n",
        "#files.download('preprocessed_train.csv')"
      ]
    },
    {
      "cell_type": "markdown",
      "metadata": {
        "id": "Sf3Iu6-AW36p"
      },
      "source": [
        "# Prepare for training"
      ]
    },
    {
      "cell_type": "markdown",
      "source": [
        "## Index mapping"
      ],
      "metadata": {
        "id": "veLpAp8P-XDp"
      }
    },
    {
      "cell_type": "markdown",
      "source": [
        "Functions to map tokens to indexes. We also save the mapping to use it on new data later."
      ],
      "metadata": {
        "id": "AAm8Ot-neKTq"
      }
    },
    {
      "cell_type": "code",
      "source": [
        "def create_vocab(list_sents):\n",
        "    \"\"\"\n",
        "    Create an indexed vocab in dictionary form.\n",
        "    \n",
        "    list_sents: the list with the text data\"\"\"\n",
        "    vocab=[]\n",
        "    data_set = \" \".join(list_sents)\n",
        "    split_it = data_set.split()\n",
        "    counter = Counter(split_it)\n",
        "    #most_occur = counter.most_common(n)\n",
        "    for word, _ in dict(counter).items():\n",
        "        vocab.append(word)\n",
        "    vocab.append('<unk>')\n",
        "    vocab = sorted(vocab)\n",
        "    vocab = {w:i +1 for i, w in enumerate(vocab)}\n",
        "    # save token-int mapping to use on new data\n",
        "    with open(\"vocab.json\", \"w\") as outfile:\n",
        "        json.dump(vocab, outfile)\n",
        "    return vocab"
      ],
      "metadata": {
        "id": "l1xjYL2O-c2w"
      },
      "execution_count": null,
      "outputs": []
    },
    {
      "cell_type": "code",
      "source": [
        "def index_and_pad(list_tweets, vocab, max_len):\n",
        "  \"\"\"\n",
        "  Return index-mapped and padded tweets.\n",
        "\n",
        "  list_tweets: the list of cleaned tweets\n",
        "  vocab: vocabulary that maps tokens to indexes\n",
        "  max_len: max length of tweets that we allow  (for padding)\n",
        "  \"\"\"\n",
        "  tweets_int = []\n",
        "  for tweet in list_tweets:\n",
        "    int_tweet = [vocab[w] if w in vocab else vocab['<unk>'] for w in tweet.split()]\n",
        "    tweets_int.append(int_tweet)\n",
        "  \n",
        "  features = np.zeros((len(tweets_int), max_len), dtype = int)\n",
        "  for i, tweet in enumerate(tweets_int):\n",
        "      tweet_len = len(tweet)\n",
        "      \n",
        "      if tweet_len <= max_len:\n",
        "          zeroes = list(np.zeros(max_len-tweet_len))\n",
        "          new = zeroes + tweet\n",
        "      elif tweet_len > max_len:\n",
        "          new = tweet[0:max_len]\n",
        "      \n",
        "      features[i, :] = list(new)\n",
        "  \n",
        "  return features"
      ],
      "metadata": {
        "id": "fUQDOI81TxMI"
      },
      "execution_count": null,
      "outputs": []
    },
    {
      "cell_type": "markdown",
      "source": [
        "## Over Sampling"
      ],
      "metadata": {
        "id": "-x3Mjhawz5zQ"
      }
    },
    {
      "cell_type": "markdown",
      "source": [
        "Data is very imbalanced, so we will perform oversampling for the minority class."
      ],
      "metadata": {
        "id": "JuakTdQ3d4h9"
      }
    },
    {
      "cell_type": "code",
      "source": [
        "def oversample(train_sample):\n",
        "  # Separate majority and minority classes in training data for oversampling\n",
        "  train_majority = train_sample[train_sample['label'] == 0]\n",
        "  train_minority = train_sample[train_sample['label'] == 1]\n",
        "\n",
        "  print(\"majority class before oversample: \", train_majority.shape)\n",
        "  print(\"minority class before oversample: \", train_minority.shape)\n",
        "\n",
        "  # Upsample minority class\n",
        "  train_minority_oversampled = resample(train_minority, \n",
        "                                 replace=True,      # sample with replacement\n",
        "                                 n_samples= train_majority.shape[0],  # to match majority class\n",
        "                                 random_state=123)  # reproducible results\n",
        " \n",
        "  # Combine majority class with oversampled minority class\n",
        "  train_oversampled = pd.concat([train_majority, train_minority_oversampled])\n",
        "  # shuffling the data\n",
        "  train_oversampled = train_oversampled.sample(frac=1).reset_index(drop=True)\n",
        "  # Display new class counts\n",
        "  print(\"After oversampling\\n\", train_oversampled.label.value_counts(), sep = \"\")\n",
        "  return train_oversampled"
      ],
      "metadata": {
        "id": "laY1YnG0BVmk"
      },
      "execution_count": null,
      "outputs": []
    },
    {
      "cell_type": "markdown",
      "source": [
        "## Dataset class"
      ],
      "metadata": {
        "id": "pO_oAfan3GCg"
      }
    },
    {
      "cell_type": "code",
      "source": [
        "class Dataset():\n",
        "  \"\"\"Dataset class for creating train, test, and val datasets (prepare the data). \"\"\"\n",
        "\n",
        "  def __init__(self, train, random_state=1, test_size=0.2):\n",
        "    \"\"\"Define train, validation, and test data.\"\"\"\n",
        "      \n",
        "    super().__init__()\n",
        "        \n",
        "    y = train.label.values\n",
        "    # use 80% for the training and 20% for the test\n",
        "    self.x_train, self.x_test, self.y_train, self.y_test = train_test_split(train.cleaned.values, y, stratify=y, \n",
        "                                                                            random_state=random_state, test_size=test_size, shuffle=True)\n",
        "    # now take 10% of the training for validation\n",
        "    self.x_train, self.x_val, self.y_train, self.y_val = train_test_split(self.x_train, self.y_train, stratify=self.y_train, \n",
        "                                                                          random_state=1, test_size=0.1, shuffle=True)\n",
        "    \n",
        "  def vectorizer(self):\n",
        "    \"\"\"Transform the text data into lists of integers.\"\"\"\n",
        "\n",
        "    # create mapping from tokens to indexes on train data\n",
        "    self.vocab = create_vocab(self.x_train)\n",
        "    # calculate max len tweet len in train data (in tokens)\n",
        "    self.max_len = len(max([tweet.split() for tweet in self.x_train], key=len))\n",
        "\n",
        "    # oversample data and create balanced train dataset\n",
        "    train_over = oversample(pd.DataFrame({\"tweet\": self.x_train, \"label\": self.y_train}))\n",
        "    self.y_train = train_over[\"label\"].to_numpy()\n",
        "    self.x_train = train_over[\"tweet\"]\n",
        "\n",
        "    # convert datasets to integers and pad them\n",
        "    self.x_train = index_and_pad(self.x_train, self.vocab, self.max_len)\n",
        "    self.x_val = index_and_pad(self.x_val, self.vocab, self.max_len)\n",
        "    self.x_test = index_and_pad(self.x_test, self.vocab, self.max_len)\n",
        "\n",
        "  def loaders(self, batch_size):\n",
        "    \"\"\"Create Tensor datasets, return data loaders.\"\"\"\n",
        "    #self.x_train=np.vstack(self.x_train).astype(np.int)\n",
        "\n",
        "    train_data = TensorDataset(torch.from_numpy(self.x_train), torch.from_numpy(self.y_train))\n",
        "    valid_data = TensorDataset(torch.from_numpy(self.x_val), torch.from_numpy(self.y_val))\n",
        "    test_data = TensorDataset(torch.from_numpy(self.x_test), torch.from_numpy(self.y_test))\n",
        "\n",
        "    train_loader = DataLoader(train_data, shuffle=True, batch_size=batch_size)\n",
        "    valid_loader = DataLoader(valid_data, shuffle=True, batch_size=batch_size)\n",
        "    test_loader = DataLoader(test_data, shuffle=True, batch_size=batch_size)\n",
        "\n",
        "    return train_loader, valid_loader, test_loader, self.vocab"
      ],
      "metadata": {
        "id": "tXOAWFya5mBu"
      },
      "execution_count": null,
      "outputs": []
    },
    {
      "cell_type": "code",
      "execution_count": null,
      "metadata": {
        "id": "aL6vTcXuW0Ud",
        "colab": {
          "base_uri": "https://localhost:8080/"
        },
        "outputId": "172600a7-2d6c-405d-b728-8d24fe548cfb"
      },
      "outputs": [
        {
          "output_type": "stream",
          "name": "stdout",
          "text": [
            "majority class before oversample:  (21397, 2)\n",
            "minority class before oversample:  (1615, 2)\n",
            "After oversampling\n",
            "1    21397\n",
            "0    21397\n",
            "Name: label, dtype: int64\n"
          ]
        }
      ],
      "source": [
        "dataset = Dataset(train)\n",
        "dataset.vectorizer()"
      ]
    },
    {
      "cell_type": "code",
      "execution_count": null,
      "metadata": {
        "id": "mLjLRNKfZB9B"
      },
      "outputs": [],
      "source": [
        "batch_size = 200\n",
        "train_loader, valid_loader, test_loader, vocab = dataset.loaders(batch_size)"
      ]
    },
    {
      "cell_type": "code",
      "execution_count": null,
      "metadata": {
        "colab": {
          "base_uri": "https://localhost:8080/"
        },
        "id": "uXboaO6tW0ZM",
        "outputId": "f955b219-8f17-4f45-db20-b8b10b6ff3b9"
      },
      "outputs": [
        {
          "output_type": "stream",
          "name": "stdout",
          "text": [
            "Sample input size:  torch.Size([200, 20])\n",
            "\n",
            "Sample label size:  torch.Size([200])\n"
          ]
        }
      ],
      "source": [
        "# obtain one batch of training data\n",
        "dataiter = iter(train_loader)\n",
        "sample_x, sample_y = dataiter.next()\n",
        "print('Sample input size: ', sample_x.size()) # batch_size, seq_length\n",
        "#print('Sample input: \\n', sample_x)\n",
        "print()\n",
        "print('Sample label size: ', sample_y.size()) # batch_size\n",
        "#print('Sample label: \\n', sample_y)"
      ]
    },
    {
      "cell_type": "code",
      "execution_count": null,
      "metadata": {
        "colab": {
          "base_uri": "https://localhost:8080/"
        },
        "id": "OW4UBsOvaeL6",
        "outputId": "771c41ec-aa12-4b2d-81d8-fb5a0e0db319"
      },
      "outputs": [
        {
          "output_type": "execute_result",
          "data": {
            "text/plain": [
              "214"
            ]
          },
          "metadata": {},
          "execution_count": 45
        }
      ],
      "source": [
        "len(train_loader)"
      ]
    },
    {
      "cell_type": "markdown",
      "metadata": {
        "id": "EcAEZOOvXy-O"
      },
      "source": [
        "## Model Class"
      ]
    },
    {
      "cell_type": "code",
      "execution_count": null,
      "metadata": {
        "id": "aejKGiztW0dm"
      },
      "outputs": [],
      "source": [
        "import torch.nn as nn"
      ]
    },
    {
      "cell_type": "code",
      "execution_count": null,
      "metadata": {
        "id": "LhkayoNjYAat"
      },
      "outputs": [],
      "source": [
        "class HatredSpeechLSTM(nn.Module):\n",
        "\n",
        "    def __init__(self, vocab_size, output_size, embedding_dim, hidden_dim, n_layers, drop_prob=0.5):\n",
        "        \"\"\"Initialize the model by setting up the layers.\"\"\"\n",
        "\n",
        "        super().__init__()\n",
        "\n",
        "        self.output_size = output_size\n",
        "        self.n_layers = n_layers\n",
        "        self.hidden_dim = hidden_dim\n",
        "        \n",
        "        # embedding and LSTM layers\n",
        "        self.embedding = nn.Embedding(vocab_size, embedding_dim)\n",
        "        self.lstm = nn.LSTM(embedding_dim, hidden_dim, n_layers, \n",
        "                            dropout=drop_prob, batch_first=True)\n",
        "        \n",
        "        # dropout layer\n",
        "        self.dropout = nn.Dropout(0.3)\n",
        "        \n",
        "        # linear and sigmoid layers\n",
        "        self.fc = nn.Linear(hidden_dim, output_size)\n",
        "        self.sig = nn.Sigmoid()\n",
        "        \n",
        "\n",
        "    def forward(self, x, hidden):\n",
        "        \"\"\"Perform a forward pass of our model on some input and hidden state.\"\"\"\n",
        "        batch_size = x.size(0)\n",
        "\n",
        "        # embeddings and lstm_out\n",
        "        embeds = self.embedding(x)\n",
        "        lstm_out, hidden = self.lstm(embeds, hidden)\n",
        "    \n",
        "        # stack up lstm outputs\n",
        "        lstm_out = lstm_out.contiguous().view(-1, self.hidden_dim)\n",
        "        \n",
        "        # dropout and fully-connected layer\n",
        "        out = self.dropout(lstm_out)\n",
        "        out = self.fc(out)\n",
        "        # sigmoid function\n",
        "        sig_out = self.sig(out)\n",
        "        \n",
        "        # reshape to be batch_size first\n",
        "        sig_out = sig_out.view(batch_size, -1)\n",
        "        sig_out = sig_out[:, -1]  # get last batch of labels\n",
        "        \n",
        "        # return last sigmoid output and hidden state\n",
        "        return sig_out, hidden\n",
        "    \n",
        "    \n",
        "    def init_hidden(self, batch_size):\n",
        "        ''' Initialize hidden state '''\n",
        "        # Create two new tensors with sizes n_layers x batch_size x hidden_dim,\n",
        "        # initialized to zero, for hidden state and cell state of LSTM\n",
        "        weight = next(self.parameters()).data\n",
        "        \n",
        "        if train_on_gpu:\n",
        "            hidden = (weight.new(self.n_layers, batch_size, self.hidden_dim).zero_().cuda(),\n",
        "                  weight.new(self.n_layers, batch_size, self.hidden_dim).zero_().cuda())\n",
        "        else:\n",
        "            hidden = (weight.new(self.n_layers, batch_size, self.hidden_dim).zero_(),\n",
        "                      weight.new(self.n_layers, batch_size, self.hidden_dim).zero_())\n",
        "        \n",
        "        return hidden\n",
        "        "
      ]
    },
    {
      "cell_type": "code",
      "execution_count": null,
      "metadata": {
        "colab": {
          "base_uri": "https://localhost:8080/"
        },
        "id": "0vwHQrTmYAcF",
        "outputId": "0eefd131-8ef2-43b7-b790-560d847e2f62"
      },
      "outputs": [
        {
          "output_type": "stream",
          "name": "stdout",
          "text": [
            "HatredSpeechLSTM(\n",
            "  (embedding): Embedding(12237, 400)\n",
            "  (lstm): LSTM(400, 256, num_layers=2, batch_first=True, dropout=0.5)\n",
            "  (dropout): Dropout(p=0.3, inplace=False)\n",
            "  (fc): Linear(in_features=256, out_features=1, bias=True)\n",
            "  (sig): Sigmoid()\n",
            ")\n"
          ]
        }
      ],
      "source": [
        "# Instantiate the model with hyperparams\n",
        "vocab_size = len(dataset.vocab) + 1  # +1 is for zeros in padding\n",
        "output_size = 1\n",
        "embedding_dim = 400\n",
        "hidden_dim = 256\n",
        "n_layers = 2\n",
        "\n",
        "net = HatredSpeechLSTM(vocab_size, output_size, embedding_dim, hidden_dim, n_layers)\n",
        "print(net)"
      ]
    },
    {
      "cell_type": "markdown",
      "metadata": {
        "id": "2aEQBhX6YRfA"
      },
      "source": [
        "# Train"
      ]
    },
    {
      "cell_type": "code",
      "execution_count": null,
      "metadata": {
        "colab": {
          "base_uri": "https://localhost:8080/"
        },
        "id": "5IxBYt0jZ92K",
        "outputId": "94a6d69f-003f-48e8-ad7a-942a3376e737"
      },
      "outputs": [
        {
          "output_type": "stream",
          "name": "stdout",
          "text": [
            "True\n"
          ]
        }
      ],
      "source": [
        "if torch.cuda.is_available():\n",
        "    print(torch.cuda.is_available())\n",
        "    train_on_gpu = True"
      ]
    },
    {
      "cell_type": "code",
      "execution_count": null,
      "metadata": {
        "id": "VSViLwLpYAdN"
      },
      "outputs": [],
      "source": [
        "if train_on_gpu:\n",
        "    net.cuda()"
      ]
    },
    {
      "cell_type": "code",
      "execution_count": null,
      "metadata": {
        "id": "gw428QDNW0hx"
      },
      "outputs": [],
      "source": [
        "# loss and optimization functions\n",
        "lr = 0.001\n",
        "\n",
        "criterion = nn.BCELoss()\n",
        "\n",
        "optimizer = torch.optim.Adam(net.parameters(), lr=lr)\n",
        "\n",
        "# training params\n",
        "epochs = 10\n",
        "\n",
        "clip = 5  # gradient clipping"
      ]
    },
    {
      "cell_type": "code",
      "execution_count": null,
      "metadata": {
        "id": "4RH-zsdKYkGh"
      },
      "outputs": [],
      "source": [
        "torch.cuda.empty_cache()"
      ]
    },
    {
      "cell_type": "code",
      "execution_count": null,
      "metadata": {
        "id": "KY_8uWodYkH5"
      },
      "outputs": [],
      "source": [
        "def train(net, epochs, train_loader, clip, batch_size, valid_loader=None):\n",
        "  net.train()\n",
        "\n",
        "  loss_train_all_epochs = []\n",
        "  loss_val_all_epochs = []\n",
        "  fmeasure_val_all_epochs = []\n",
        "  best_fmeasure = 0  # \"optimal\" f-measure that will be used to perform validation\n",
        "  \n",
        "  # training loop\n",
        "  for e in range(epochs):\n",
        "    # initialize hidden state\n",
        "    h = net.init_hidden(batch_size)\n",
        "\n",
        "    # Initialize the training loss for the current epoch\n",
        "    loss_current_epoch = 0\n",
        "\n",
        "    # batch loop\n",
        "    for inputs, labels in train_loader:\n",
        "\n",
        "      # Creating new variables for the hidden state, otherwise\n",
        "      # we'd backprop through the entire training history\n",
        "      h = tuple([each.data for each in h])\n",
        "          \n",
        "      # zero accumulated gradients\n",
        "      net.zero_grad()\n",
        "\n",
        "      # get the output from the model\n",
        "      inputs = inputs.type(torch.LongTensor)\n",
        "      if train_on_gpu: inputs, labels = inputs.cuda(), labels.cuda()\n",
        "\n",
        "      if inputs.shape[0] != batch_size:  # for the last batch if it's smaller - don't do anything\n",
        "        continue\n",
        "      output, h = net(inputs, h)\n",
        "\n",
        "      # calculate the loss and perform backpropagation\n",
        "      loss = criterion(output, labels.float())\n",
        "      loss.backward()\n",
        "      # clip_grad_norm helps prevent the exploding gradient problem in LSTMs\n",
        "      nn.utils.clip_grad_norm_(net.parameters(), clip)\n",
        "      optimizer.step()\n",
        "\n",
        "      # Add the batch loss to the current epoch loss\n",
        "      loss_current_epoch += loss.item()\n",
        "\n",
        "    # at the end of each epoch, record the loss over all batches and the accuracy on the validation set\n",
        "    loss_train_all_epochs.append(loss_current_epoch)\n",
        "        \n",
        "    if valid_loader is None:  # if we don't have any validation data\n",
        "      val_loss_current_epoch, fmeasure_current_epoch = 0, 0\n",
        "    else:\n",
        "      val_loss_current_epoch, fmeasure_current_epoch = evaluate(net, valid_loader)\n",
        "    loss_val_all_epochs.append(val_loss_current_epoch)\n",
        "    fmeasure_val_all_epochs.append(fmeasure_current_epoch)\n",
        "        \n",
        "    # print the training and validation loss and validation fmeasure\n",
        "    print('Epoch [{}/{}],\\nOverall training loss: {:.4f};\\nMean training loss: {:.4f};\\nOverall validation loss: {:.4f};\\\n",
        "    \\nMean validation loss: {:.4f};\\nMean validation fmeasure: {:.4f}\\n'\n",
        "               .format(e+1, epochs, loss_current_epoch, loss_current_epoch / len(train_loader), val_loss_current_epoch, \n",
        "                       val_loss_current_epoch / (len(valid_loader) if valid_loader else 1), fmeasure_current_epoch))\n",
        "            \n",
        "    # save the model to variable if the fmeasure is higher than the \"optimal\" value\n",
        "    if fmeasure_current_epoch >= best_fmeasure:\n",
        "      model_opt = net\n",
        "      best_fmeasure = fmeasure_current_epoch\n",
        "    \n",
        "    # return to the training mode\n",
        "    net.train()\n",
        "\n",
        "  return model_opt, loss_train_all_epochs, loss_val_all_epochs, fmeasure_val_all_epochs"
      ]
    },
    {
      "cell_type": "code",
      "source": [
        "def evaluate(net, dataloader, _print=False):\n",
        "  val_h = net.init_hidden(batch_size)\n",
        "  val_loss_current_epoch = 0\n",
        "  net.eval()  # set to the eval mode\n",
        "  with torch.no_grad():\n",
        "    num_tp = 0\n",
        "    num_fp = 0\n",
        "    num_fn = 0\n",
        "\n",
        "    for inputs, labels in valid_loader:\n",
        "\n",
        "      val_h = tuple([each.data for each in val_h])\n",
        "\n",
        "      inputs = inputs.type(torch.LongTensor)\n",
        "      if train_on_gpu: inputs, labels = inputs.cuda(), labels.cuda()\n",
        "\n",
        "      if inputs.shape[0] != batch_size:  # for the last batch that is smaller - don't do anything\n",
        "        continue\n",
        "      output, val_h = net(inputs, val_h)\n",
        "\n",
        "      val_loss = criterion(output.squeeze(), labels.float())\n",
        "      val_loss_current_epoch += val_loss.item()  # add the batch loss to the current epoch loss\n",
        "\n",
        "      # convert output probabilities to predicted class (0 or 1)\n",
        "      labels_pred = torch.round(output.squeeze())  # rounds to the nearest integer\n",
        "\n",
        "      tp, fn, fp = return_stats(labels, labels_pred)\n",
        "      if _print:\n",
        "        print('batch tp, fn, fp:', tp, fn, fp)\n",
        "        print('batch labels:', labels_pred)\n",
        "        \n",
        "      num_tp += tp\n",
        "      num_fn += fn\n",
        "      num_fp += fp\n",
        "\n",
        "  f_measure = num_tp / (num_tp + 0.5 * (num_fp + num_fn))\n",
        "\n",
        "  if _print:\n",
        "    print('overall tp, fn, fp:', num_tp, num_fn, num_fp)\n",
        "    \n",
        "  return val_loss_current_epoch, f_measure"
      ],
      "metadata": {
        "id": "xDEqvlY_9C74"
      },
      "execution_count": null,
      "outputs": []
    },
    {
      "cell_type": "code",
      "source": [
        "def return_stats(first, second):\n",
        "  \"\"\"Get two boolean tensors, return number of TP, FN, and FP.\"\"\"\n",
        "  tp = torch.sum((first==second) * (first==1)).item()\n",
        "  fn = torch.sum((first!=second) * (first==1)).item()\n",
        "  fp = torch.sum((first!=second) * (first==0)).item()\n",
        "  return tp, fn, fp"
      ],
      "metadata": {
        "id": "MRZDUCJgQPAw"
      },
      "execution_count": null,
      "outputs": []
    },
    {
      "cell_type": "code",
      "source": [
        "model, loss_train_all_epochs, loss_val_all_epochs, fmeasure_val_all_epochs = train(net, epochs, train_loader, clip, batch_size, valid_loader)\n",
        "# returned 'model' is the best among epochs according to fmeasure on validation data"
      ],
      "metadata": {
        "id": "tXipVmPU9N8N",
        "colab": {
          "base_uri": "https://localhost:8080/"
        },
        "outputId": "0271bc87-0ddd-4d9d-9241-3bfe9ed2c8cc"
      },
      "execution_count": null,
      "outputs": [
        {
          "output_type": "stream",
          "name": "stdout",
          "text": [
            "Epoch [1/10],\n",
            "Overall training loss: 42.7086;\n",
            "Mean training loss: 0.1996;\n",
            "Overall validation loss: 2.4299;    \n",
            "Mean validation loss: 0.1869;\n",
            "Mean validation fmeasure: 0.6122\n",
            "\n",
            "Epoch [2/10],\n",
            "Overall training loss: 5.9717;\n",
            "Mean training loss: 0.0279;\n",
            "Overall validation loss: 2.9133;    \n",
            "Mean validation loss: 0.2241;\n",
            "Mean validation fmeasure: 0.6749\n",
            "\n",
            "Epoch [3/10],\n",
            "Overall training loss: 3.0397;\n",
            "Mean training loss: 0.0142;\n",
            "Overall validation loss: 3.0477;    \n",
            "Mean validation loss: 0.2344;\n",
            "Mean validation fmeasure: 0.6689\n",
            "\n",
            "Epoch [4/10],\n",
            "Overall training loss: 1.9740;\n",
            "Mean training loss: 0.0092;\n",
            "Overall validation loss: 3.3221;    \n",
            "Mean validation loss: 0.2555;\n",
            "Mean validation fmeasure: 0.6552\n",
            "\n",
            "Epoch [5/10],\n",
            "Overall training loss: 1.8848;\n",
            "Mean training loss: 0.0088;\n",
            "Overall validation loss: 3.1323;    \n",
            "Mean validation loss: 0.2409;\n",
            "Mean validation fmeasure: 0.6444\n",
            "\n",
            "Epoch [6/10],\n",
            "Overall training loss: 1.2003;\n",
            "Mean training loss: 0.0056;\n",
            "Overall validation loss: 3.8068;    \n",
            "Mean validation loss: 0.2928;\n",
            "Mean validation fmeasure: 0.6839\n",
            "\n",
            "Epoch [7/10],\n",
            "Overall training loss: 0.9899;\n",
            "Mean training loss: 0.0046;\n",
            "Overall validation loss: 3.8676;    \n",
            "Mean validation loss: 0.2975;\n",
            "Mean validation fmeasure: 0.6710\n",
            "\n",
            "Epoch [8/10],\n",
            "Overall training loss: 1.8288;\n",
            "Mean training loss: 0.0085;\n",
            "Overall validation loss: 3.7245;    \n",
            "Mean validation loss: 0.2865;\n",
            "Mean validation fmeasure: 0.6417\n",
            "\n",
            "Epoch [9/10],\n",
            "Overall training loss: 0.9874;\n",
            "Mean training loss: 0.0046;\n",
            "Overall validation loss: 4.3636;    \n",
            "Mean validation loss: 0.3357;\n",
            "Mean validation fmeasure: 0.6627\n",
            "\n",
            "Epoch [10/10],\n",
            "Overall training loss: 0.8532;\n",
            "Mean training loss: 0.0040;\n",
            "Overall validation loss: 4.6606;    \n",
            "Mean validation loss: 0.3585;\n",
            "Mean validation fmeasure: 0.6582\n",
            "\n"
          ]
        }
      ]
    },
    {
      "cell_type": "code",
      "source": [
        "# Display the training and validation losses and (validation) f-measure over epochs\n",
        "plt.figure()\n",
        "plt.subplot(1, 3, 1)\n",
        "plt.plot(loss_train_all_epochs)\n",
        "plt.title('Training loss')\n",
        "plt.subplot(1, 3, 2)\n",
        "plt.plot(loss_val_all_epochs)\n",
        "plt.title('Validation loss')\n",
        "plt.subplot(1, 3, 3)\n",
        "plt.plot(fmeasure_val_all_epochs)\n",
        "plt.title('Validation fmeasure')\n",
        "plt.show()\n",
        "plt.savefig('output.png')"
      ],
      "metadata": {
        "colab": {
          "base_uri": "https://localhost:8080/",
          "height": 300
        },
        "id": "KaSNgkh3DD9A",
        "outputId": "85a20c28-351e-40b7-d870-77b9137d9ccd"
      },
      "execution_count": null,
      "outputs": [
        {
          "output_type": "display_data",
          "data": {
            "image/png": "[encoded data removed]",
            "text/plain": [
              "<Figure size 432x288 with 3 Axes>"
            ]
          },
          "metadata": {
            "needs_background": "light"
          }
        },
        {
          "output_type": "display_data",
          "data": {
            "text/plain": [
              "<Figure size 432x288 with 0 Axes>"
            ]
          },
          "metadata": {}
        }
      ]
    },
    {
      "cell_type": "code",
      "source": [
        "# save the model to a checkpoint\n",
        "torch.save(model.state_dict(), 'checkpoint.pth')\n",
        "\n",
        "# download checkpoint file\n",
        "files.download('checkpoint.pth')"
      ],
      "metadata": {
        "id": "Aw6BFqpVC_N2",
        "colab": {
          "base_uri": "https://localhost:8080/",
          "height": 16
        },
        "outputId": "31d7de57-d3f3-4c6f-8cc4-04e6ecb75b4e"
      },
      "execution_count": null,
      "outputs": [
        {
          "output_type": "display_data",
          "data": {
            "application/javascript": [
              "\n",
              "    async function download(id, filename, size) {\n",
              "      if (!google.colab.kernel.accessAllowed) {\n",
              "        return;\n",
              "      }\n",
              "      const div = document.createElement('div');\n",
              "      const label = document.createElement('label');\n",
              "      label.textContent = `Downloading \"${filename}\": `;\n",
              "      div.appendChild(label);\n",
              "      const progress = document.createElement('progress');\n",
              "      progress.max = size;\n",
              "      div.appendChild(progress);\n",
              "      document.body.appendChild(div);\n",
              "\n",
              "      const buffers = [];\n",
              "      let downloaded = 0;\n",
              "\n",
              "      const channel = await google.colab.kernel.comms.open(id);\n",
              "      // Send a message to notify the kernel that we're ready.\n",
              "      channel.send({})\n",
              "\n",
              "      for await (const message of channel.messages) {\n",
              "        // Send a message to notify the kernel that we're ready.\n",
              "        channel.send({})\n",
              "        if (message.buffers) {\n",
              "          for (const buffer of message.buffers) {\n",
              "            buffers.push(buffer);\n",
              "            downloaded += buffer.byteLength;\n",
              "            progress.value = downloaded;\n",
              "          }\n",
              "        }\n",
              "      }\n",
              "      const blob = new Blob(buffers, {type: 'application/binary'});\n",
              "      const a = document.createElement('a');\n",
              "      a.href = window.URL.createObjectURL(blob);\n",
              "      a.download = filename;\n",
              "      div.appendChild(a);\n",
              "      a.click();\n",
              "      div.remove();\n",
              "    }\n",
              "  "
            ],
            "text/plain": [
              "<IPython.core.display.Javascript object>"
            ]
          },
          "metadata": {}
        },
        {
          "output_type": "display_data",
          "data": {
            "application/javascript": [
              "download(\"download_d2cd73ea-9e59-4449-a609-fe8efbc87810\", \"checkpoint.pth\", 24382879)"
            ],
            "text/plain": [
              "<IPython.core.display.Javascript object>"
            ]
          },
          "metadata": {}
        }
      ]
    },
    {
      "cell_type": "markdown",
      "source": [
        "# Evaluation"
      ],
      "metadata": {
        "id": "gum-kUvkxmzS"
      }
    },
    {
      "cell_type": "code",
      "source": [
        "loss_last_epoch, f_measure = evaluate(net, test_loader)"
      ],
      "metadata": {
        "id": "GMbX5zm-oBlq"
      },
      "execution_count": null,
      "outputs": []
    },
    {
      "cell_type": "code",
      "execution_count": null,
      "metadata": {
        "id": "3QGzFUhobWUJ",
        "colab": {
          "base_uri": "https://localhost:8080/"
        },
        "outputId": "c1cd4498-5340-4b74-cb60-9ba12ff54c7d"
      },
      "outputs": [
        {
          "output_type": "stream",
          "name": "stdout",
          "text": [
            "4.5920286774635315 0.6645161290322581\n"
          ]
        }
      ],
      "source": [
        "print(loss_last_epoch, f_measure)"
      ]
    },
    {
      "cell_type": "code",
      "execution_count": null,
      "metadata": {
        "colab": {
          "background_save": true
        },
        "id": "5aujsPX3V07n"
      },
      "outputs": [],
      "source": [
        ""
      ]
    }
  ],
  "metadata": {
    "accelerator": "GPU",
    "colab": {
      "collapsed_sections": [],
      "name": "project hatred speech detection .ipynb",
      "provenance": []
    },
    "kernelspec": {
      "display_name": "Python 3",
      "name": "python3"
    },
    "language_info": {
      "name": "python"
    }
  },
  "nbformat": 4,
  "nbformat_minor": 0
}